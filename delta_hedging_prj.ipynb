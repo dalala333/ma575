{
  "cells": [
    {
      "cell_type": "code",
      "execution_count": 1,
      "id": "01aa6beb",
      "metadata": {
        "colab": {
          "base_uri": "https://localhost:8080/"
        },
        "id": "01aa6beb",
        "outputId": "00e47f1b-fbc3-41b0-a11f-21cbae6abe86"
      },
      "outputs": [
        {
          "name": "stdout",
          "output_type": "stream",
          "text": [
            "Delta Hedging Project - Libraries Loaded Successfully\n",
            "============================================================\n",
            "Note: Error handling enabled - code will continue running even with incomplete implementation\n"
          ]
        }
      ],
      "source": [
        "import numpy as np\n",
        "import matplotlib.pyplot as plt\n",
        "import pandas as pd\n",
        "import scipy.stats as stats\n",
        "from scipy.stats import norm\n",
        "import warnings\n",
        "\n",
        "# Suppress all warnings including type errors\n",
        "warnings.filterwarnings('ignore')\n",
        "\n",
        "# Configure numpy to handle errors gracefully\n",
        "np.seterr(all='ignore')\n",
        "\n",
        "# Set random seed for reproducibility\n",
        "np.random.seed(42)\n",
        "\n",
        "print(\"Delta Hedging Project - Libraries Loaded Successfully\")\n",
        "print(\"=\" * 60)\n",
        "print(\"Note: Error handling enabled - code will continue running even with incomplete implementation\")"
      ]
    },
    {
      "cell_type": "markdown",
      "id": "97ccd9df",
      "metadata": {
        "id": "97ccd9df"
      },
      "source": [
        "# Delta Hedging Project\n",
        "\n",
        "## Objective\n",
        "This project demonstrates the practical implementation of delta hedging strategies using the Black-Scholes model. Students will learn to:\n",
        "1. Calculate Black-Scholes option prices and Greeks\n",
        "2. Implement dynamic delta hedging strategies\n",
        "3. Analyze hedging effectiveness under different market scenarios\n",
        "4. Understand the relationship between theory and practice in risk management\n",
        "\n",
        "## Theoretical Background\n",
        "\n",
        "### Black-Scholes Formula\n",
        "The Black-Scholes price of a European call option is:\n",
        "$$C(S, t) = S \\Phi(d_1) - K e^{-r(T-t)} \\Phi(d_2)$$\n",
        "\n",
        "where:\n",
        "$$d_1 = \\frac{\\ln(S/K) + (r + \\frac{1}{2}\\sigma^2)(T-t)}{\\sigma \\sqrt{T-t}}, \\quad d_2 = d_1 - \\sigma \\sqrt{T-t}$$\n",
        "\n",
        "and $\\Phi(\\cdot)$ is the standard normal cumulative distribution function.\n",
        "\n",
        "### Key Properties\n",
        "1. **Delta (Δ)**: The option's sensitivity to underlying price changes\n",
        "   $$\\Delta = \\frac{\\partial C}{\\partial S} = \\Phi(d_1)$$\n",
        "\n",
        "2. **Gamma (Γ)**: The rate of change of delta with respect to the underlying price\n",
        "   $$\\Gamma = \\frac{\\partial^2 C}{\\partial S^2} = \\frac{\\phi(d_1)}{S \\sigma \\sqrt{T-t}}$$\n"
      ]
    },
    {
      "cell_type": "markdown",
      "id": "60656633",
      "metadata": {
        "id": "60656633"
      },
      "source": [
        "## Problem Setup\n",
        "\n",
        "### Scenario\n",
        "Consider a derivatives trader who has **sold 100,000 European call options** and needs to implement a delta hedging strategy to manage the risk exposure.\n",
        "\n",
        "### Market Parameters\n",
        "| Parameter | Symbol | Value | Unit |\n",
        "|-----------|--------|-------|------|\n",
        "| Current spot price | $S_0$ | 49 | USD |\n",
        "| Strike price | $K$ | 50 | USD |\n",
        "| Time to maturity | $T$ | 20 | weeks |\n",
        "| Risk-free rate | $r$ | 5% | per annum |\n",
        "| Volatility | $\\sigma$ | 20% | per annum |\n",
        "| Expected return (drift) | $\\mu$ | 8% | per annum |\n",
        "\n",
        "### Initial Conditions\n",
        "- **Position**: Short 100,000 call options\n",
        "- **Premium received**: $300,000 (given)\n",
        "- **Hedging frequency**: Weekly rebalancing\n",
        "- **Objective**: Minimize the portfolio's sensitivity to stock price movements\n"
      ]
    },
    {
      "cell_type": "code",
      "execution_count": 2,
      "id": "b9041d48",
      "metadata": {
        "id": "b9041d48"
      },
      "outputs": [],
      "source": [
        "# Black-Scholes parameters\n",
        "S = 49  # Underlying asset price\n",
        "K = 50  # Strike price\n",
        "T = 20/52    # Time to maturity\n",
        "r = 0.05 # Risk-free interest rate\n",
        "sigma = 0.2 # Volatility\n",
        "mu = 0.08 # drift"
      ]
    },
    {
      "cell_type": "markdown",
      "id": "f4df39e0",
      "metadata": {
        "id": "f4df39e0"
      },
      "source": [
        "## Task 1: Black-Scholes Calculations and Initial Analysis\n",
        "\n",
        "### Requirements\n",
        "Complete the following calculations and analysis:\n",
        "\n",
        "1. **Implement Black-Scholes functions** to calculate:\n",
        "   - Call option price $C(S_0, 0)$\n",
        "   - Parameters $d_1$ and $d_2$\n",
        "   - Delta $\\Delta = \\Phi(d_1)$\n",
        "   - Gamma $\\Gamma = \\frac{\\phi(d_1)}{S \\sigma \\sqrt{T}}$\n",
        "\n",
        "2. **Calculate theoretical portfolio value**:\n",
        "   - Given that 100,000 options were sold for $300,000\n",
        "   - Compare with Black-Scholes theoretical value\n",
        "   - Calculate the implied profit/loss at inception\n",
        "\n",
        "3. **Create payoff diagram**:\n",
        "   - Plot option payoff at maturity vs. stock price range [30, 70]\n",
        "   - Show portfolio (-100,000 options+300,000 dollar cash) payoff\n"
      ]
    },
    {
      "cell_type": "code",
      "execution_count": 3,
      "id": "03c891fb",
      "metadata": {
        "colab": {
          "base_uri": "https://localhost:8080/"
        },
        "id": "03c891fb",
        "outputId": "fbc6999a-d108-4293-e466-36b204bf78a5"
      },
      "outputs": [
        {
          "name": "stdout",
          "output_type": "stream",
          "text": [
            "TASK 1: BLACK-SCHOLES CALCULATIONS\n",
            "==================================================\n"
          ]
        }
      ],
      "source": [
        "# Task 1 Solution\n",
        "print(\"TASK 1: BLACK-SCHOLES CALCULATIONS\")\n",
        "print(\"=\"*50)"
      ]
    },
    {
      "cell_type": "code",
      "execution_count": 4,
      "id": "f86e6faa",
      "metadata": {},
      "outputs": [
        {
          "name": "stdout",
          "output_type": "stream",
          "text": [
            "\n",
            "1. Black-Scholes Results\n",
            " Price: 2.4005\n",
            "    d1: 0.0542\n",
            "    d2: -0.0699\n",
            " Delta: 0.5216\n",
            " Gamma: 0.0655\n"
          ]
        }
      ],
      "source": [
        "# 1. Implement Black-Scholes functions\n",
        "def black_scholes(S, K, T, r, sigma):\n",
        "    d1 = (np.log(S/K) + (r + 0.5*sigma**2)*T) / (sigma*np.sqrt(T))\n",
        "    d2 = d1 - sigma*np.sqrt(T)\n",
        "    delta = norm.cdf(d1)\n",
        "    c = S * delta - K * np.exp(-r*T) * norm.cdf(d2)\n",
        "    gamma = norm.pdf(d1) / (S * sigma * np.sqrt(T))\n",
        "    \n",
        "    return {\"Price\": c, \"d1\": d1, \"d2\": d2, \"Delta\": delta, \"Gamma\": gamma}\n",
        "\n",
        "# Claculations\n",
        "results = black_scholes(S, K, T, r, sigma)\n",
        "print(\"\\n1. Black-Scholes Results\")\n",
        "for k, v in results.items():\n",
        "    print(f\"{k:>6}: {v:.4f}\")"
      ]
    },
    {
      "cell_type": "code",
      "execution_count": 5,
      "id": "eb766115",
      "metadata": {},
      "outputs": [
        {
          "name": "stdout",
          "output_type": "stream",
          "text": [
            "\n",
            "2. Portfolio Analysis\n",
            " Market price per option        : 3.00\n",
            " Theoretical Black-Scholes price: 2.40\n",
            " Premium received               : 300,000\n",
            " Theoretical value              : 240,053\n",
            " Premium exceeds theoretical value by 59,947.27\n"
          ]
        }
      ],
      "source": [
        "# 2. Theoretical portfolio value\n",
        "n = 100000\n",
        "premium = 300000\n",
        "market_p = premium / n\n",
        "theo_p = results[\"Price\"]\n",
        "theo_v = n * theo_p\n",
        "pnl = premium - theo_v\n",
        "\n",
        "print(\"\\n2. Portfolio Analysis\")\n",
        "print(f\" Market price per option        : {market_p:.2f}\")\n",
        "print(f\" Theoretical Black-Scholes price: {theo_p:.2f}\")\n",
        "print(f\" Premium received               : {premium:,.0f}\")\n",
        "print(f\" Theoretical value              : {theo_v:,.0f}\")\n",
        "\n",
        "if pnl > 0:\n",
        "    print(f\" Premium exceeds theoretical value by {pnl:,.2f}\")\n",
        "elif np.isclose(pnl, 0.0):\n",
        "    print(\" Premium matches theoretical value\")\n",
        "else:\n",
        "    print(f\" Premium below theoretical value by {abs(pnl):,.2f}\")"
      ]
    },
    {
      "cell_type": "code",
      "execution_count": 6,
      "id": "9cb44211",
      "metadata": {},
      "outputs": [
        {
          "name": "stdout",
          "output_type": "stream",
          "text": [
            "\n",
            "3. Payoff Diagrams\n"
          ]
        },
        {
          "data": {
            "image/png": "[encoded data removed]",
            "text/plain": [
              "<Figure size 1400x600 with 2 Axes>"
            ]
          },
          "metadata": {},
          "output_type": "display_data"
        }
      ],
      "source": [
        "# 3. Payoff diagrams (call payoff and portfolio payoff over [30, 70])\n",
        "S_range = np.linspace(30, 70, 200)\n",
        "call_payoff = np.maximum(S_range - K, 0)\n",
        "portfolio_payoff = premium - n * call_payoff\n",
        "\n",
        "print(\"\\n3. Payoff Diagrams\")\n",
        "fig, axs = plt.subplots(1, 2, figsize=(14,6))\n",
        "\n",
        "# Plot 1: Call payoff\n",
        "axs[0].plot(S_range, call_payoff, color=\"blue\")\n",
        "axs[0].axhline(0, color=\"black\", linewidth=1)\n",
        "axs[0].axvline(K, color=\"green\", linestyle=\"--\", label=\"Strike\")\n",
        "axs[0].set_title(\"Call Option Payoff\")\n",
        "axs[0].set_xlabel(\"Stock Price at Maturity\")\n",
        "axs[0].set_ylabel(\"Payoff ($)\")\n",
        "axs[0].legend()\n",
        "axs[0].grid()\n",
        "\n",
        "# Plot 2: Portfolio payoff\n",
        "axs[1].plot(S_range, portfolio_payoff, color=\"red\")\n",
        "axs[1].axhline(0, color=\"black\", linewidth=1)\n",
        "axs[1].axvline(K, color=\"green\", linestyle=\"--\", label=\"Strike\")\n",
        "axs[1].set_title(\"Portfolio Payoff\")\n",
        "axs[1].set_xlabel(\"Stock Price at Maturity\")\n",
        "axs[1].set_ylabel(\"Payoff ($)\")\n",
        "axs[1].legend()\n",
        "axs[1].grid()\n",
        "\n",
        "plt.tight_layout()\n",
        "plt.show()"
      ]
    },
    {
      "cell_type": "code",
      "execution_count": 7,
      "id": "ce284353",
      "metadata": {
        "id": "ce284353"
      },
      "outputs": [],
      "source": [
        "# Simulate weekly stock price paths using geometric brownian motion\n",
        "def simulate_gbm(S0, mu, sigma, T, dt=1/52, paths=1000):\n",
        "    \"\"\"\n",
        "    Simulate paths for a geometric Brownian motion process.\n",
        "    \"\"\"\n",
        "    n_steps = int(T / dt)\n",
        "    time_grid = np.linspace(0, T, n_steps)\n",
        "    S_paths = np.zeros((n_steps, paths))\n",
        "    S_paths[0] = S0\n",
        "\n",
        "    for t in range(1, n_steps):\n",
        "        Z = np.random.normal(size=paths)\n",
        "        S_paths[t] = S_paths[t-1] * np.exp((mu - 0.5 * sigma**2) * dt + sigma * np.sqrt(dt) * Z)\n",
        "\n",
        "    return time_grid, S_paths\n"
      ]
    },
    {
      "cell_type": "code",
      "execution_count": 8,
      "id": "edb57e9f",
      "metadata": {
        "colab": {
          "base_uri": "https://localhost:8080/",
          "height": 564
        },
        "id": "edb57e9f",
        "outputId": "ebc4cfa3-e8f6-4e85-9a63-8820a1452eed"
      },
      "outputs": [
        {
          "data": {
            "image/png": "[encoded data removed]",
            "text/plain": [
              "<Figure size 1000x600 with 1 Axes>"
            ]
          },
          "metadata": {},
          "output_type": "display_data"
        }
      ],
      "source": [
        "# Simulate one path with above parameters\n",
        "#fix simulation random seed\n",
        "dt = 1/52 # weekly time step\n",
        "\n",
        "np.random.seed(123)\n",
        "\n",
        "time_grid, S_paths = simulate_gbm(S, mu, sigma, T, dt=dt, paths=1)\n",
        "#plot\n",
        "plt.figure(figsize=(10, 6))\n",
        "plt.plot(time_grid, S_paths, label=\"Simulated Stock Price Path\", color=\"blue\")\n",
        "plt.title(\"Simulated Stock Price Path using GBM\")\n",
        "plt.xlabel(\"Time (Weeks)\")\n",
        "plt.ylabel(\"Stock Price\")\n",
        "plt.legend()\n",
        "plt.grid()\n",
        "plt.show()\n"
      ]
    },
    {
      "cell_type": "markdown",
      "id": "d2a54ab9",
      "metadata": {
        "id": "d2a54ab9"
      },
      "source": [
        "## Task 2: Dynamic Delta Hedging Implementation\n",
        "\n",
        "### Objectives\n",
        "Using the simulated stock price path above, implement a dynamic delta hedging strategy with weekly rebalancing.\n",
        "\n",
        "### Requirements\n",
        "\n",
        "1. **Portfolio Value at Maturity (No Hedging)**:\n",
        "   - Calculate the portfolio value at maturity assuming no hedging\n",
        "   - Compare with the premium received initially\n",
        "\n",
        "2. **Implement Delta Hedging Algorithm**:\n",
        "   - Start with initial cash from option premium ($300,000)\n",
        "   - At each time step:\n",
        "     - Calculate current option value and delta\n",
        "     - Determine required hedge ratio (shares to hold)\n",
        "     - Buy/sell shares to maintain delta neutrality\n",
        "     - Update cash position (include interest on cash)\n",
        "   - Track weekly data in a structured format\n",
        "3. **Required Output Table** (for each week):\n",
        "\n",
        "| Week | Stock Price | Option Price | Delta | Shares Held | Cash Position |\n",
        "|------|-------------|--------------|-------|-------------|---------------|\n",
        "| 0    | 49.00       | ?            | ?     | ?           | 300,000       |\n",
        "| 1    | ?           | ?            | ?     | ?           | ?             |\n",
        "| ...  | ...         | ...          | ...   | ...         | ...           |\n",
        "\n",
        "4. **Analysis Questions**:\n",
        "   - What is the final portfolio value after delta hedging?\n",
        "   - How does this compare to the unhedged scenario?\n",
        "   - How effective was the delta hedging strategy?\n"
      ]
    },
    {
      "cell_type": "code",
      "execution_count": 9,
      "id": "dd049cd8",
      "metadata": {
        "colab": {
          "base_uri": "https://localhost:8080/"
        },
        "id": "dd049cd8",
        "outputId": "fe6fb57f-47da-440a-d98d-f711a0060b1e"
      },
      "outputs": [
        {
          "name": "stdout",
          "output_type": "stream",
          "text": [
            "TASK 2: DYNAMIC DELTA HEDGING\n",
            "==================================================\n"
          ]
        }
      ],
      "source": [
        "# Task 2 Solution: Delta Hedging Implementation\n",
        "print(\"TASK 2: DYNAMIC DELTA HEDGING\")\n",
        "print(\"=\" * 50)"
      ]
    },
    {
      "cell_type": "code",
      "execution_count": null,
      "id": "fadbc770",
      "metadata": {},
      "outputs": [
        {
          "name": "stdout",
          "output_type": "stream",
          "text": [
            "\n",
            "1. Unhedged Portfolio Value\n",
            " S(T)                  : 52.7994\n",
            " Payoff per option     : 2.7994\n",
            " Portfolio payoff      : 279,941.07\n",
            " Premium exceeds unhedged value by 20,058.93\n"
          ]
        }
      ],
      "source": [
        "# 1. Unhedged Portfolio Value at Maturity\n",
        "S_T = float(S_paths[-1, 0]) \n",
        "call_payoff_T = max(S_T - K, 0)\n",
        "portfolio_payoff_T = n * call_payoff_T\n",
        "unhedged_value = premium - portfolio_payoff_T\n",
        "\n",
        "print(\"\\n1. Unhedged Portfolio Value\")\n",
        "print(f\" S(T)                  : {S_T:.4f}\")\n",
        "print(f\" Payoff per option     : {call_payoff_T:.4f}\")\n",
        "print(f\" Portfolio payoff      : {portfolio_payoff_T:,.2f}\")\n",
        "if unhedged_value > 0:\n",
        "    print(f\" Premium exceeds unhedged value by {unhedged_value:,.2f}\")\n",
        "elif np.isclose(unhedged_value, 0.0):\n",
        "    print(\" Premium matches unhedged value\")\n",
        "else:\n",
        "    print(f\" Premium below unhedged value by {abs(unhedged_value):,.2f}\")"
      ]
    },
    {
      "cell_type": "code",
      "execution_count": 12,
      "id": "e0d28ccc",
      "metadata": {},
      "outputs": [],
      "source": [
        "# 2. Implement Delta Hedging Algorithm\n",
        "m  = len(time_grid)\n",
        "\n",
        "opt_price = np.zeros(m)\n",
        "opt_delta = np.zeros(m)\n",
        "shares_total = np.zeros(m)\n",
        "cash_total = np.zeros(m)\n",
        "\n",
        "# Week 0\n",
        "S_0 = float(S_paths[0, 0])\n",
        "res_0 = black_scholes(S_0, K, T, r, sigma)\n",
        "opt_price[0], opt_delta[0] = res_0[\"Price\"], res_0[\"Delta\"]\n",
        "shares_total[0] = n * opt_delta[0]\n",
        "cash_total[0] = premium - shares_total[0] * S_0\n",
        "\n",
        "# Weekly rebalancing\n",
        "for t in range(1, m):\n",
        "    cash_total[t] = cash_total[t-1] * np.exp(r * dt)\n",
        "\n",
        "    T_t = max(T - time_grid[t], 0)\n",
        "    S_t = float(S_paths[t, 0])\n",
        "    res = black_scholes(S_t, K, T_t, r, sigma)\n",
        "    opt_price[t], opt_delta[t] = res[\"Price\"], res[\"Delta\"]\n",
        "\n",
        "    shares_total[t] = n * opt_delta[t]\n",
        "    trade = shares_total[t] - shares_total[t-1]\n",
        "    cash_total[t] -= trade * S_t"
      ]
    },
    {
      "cell_type": "code",
      "execution_count": 13,
      "id": "66957f88",
      "metadata": {},
      "outputs": [
        {
          "name": "stdout",
          "output_type": "stream",
          "text": [
            "\n",
            "3. Output table\n"
          ]
        },
        {
          "data": {
            "text/html": [
              "<div>\n",
              "<style scoped>\n",
              "    .dataframe tbody tr th:only-of-type {\n",
              "        vertical-align: middle;\n",
              "    }\n",
              "\n",
              "    .dataframe tbody tr th {\n",
              "        vertical-align: top;\n",
              "    }\n",
              "\n",
              "    .dataframe thead th {\n",
              "        text-align: right;\n",
              "    }\n",
              "</style>\n",
              "<table border=\"1\" class=\"dataframe\">\n",
              "  <thead>\n",
              "    <tr style=\"text-align: right;\">\n",
              "      <th></th>\n",
              "      <th>Week</th>\n",
              "      <th>Stock Price</th>\n",
              "      <th>Option Price</th>\n",
              "      <th>Delta</th>\n",
              "      <th>Shares Held</th>\n",
              "      <th>Cash Position</th>\n",
              "    </tr>\n",
              "  </thead>\n",
              "  <tbody>\n",
              "    <tr>\n",
              "      <th>0</th>\n",
              "      <td>0</td>\n",
              "      <td>49.000000</td>\n",
              "      <td>2.400527</td>\n",
              "      <td>0.521605</td>\n",
              "      <td>52160.466107</td>\n",
              "      <td>-2.255863e+06</td>\n",
              "    </tr>\n",
              "    <tr>\n",
              "      <th>1</th>\n",
              "      <td>1</td>\n",
              "      <td>47.601495</td>\n",
              "      <td>1.655237</td>\n",
              "      <td>0.422336</td>\n",
              "      <td>42233.633008</td>\n",
              "      <td>-1.785501e+06</td>\n",
              "    </tr>\n",
              "    <tr>\n",
              "      <th>2</th>\n",
              "      <td>2</td>\n",
              "      <td>48.993097</td>\n",
              "      <td>2.219304</td>\n",
              "      <td>0.512734</td>\n",
              "      <td>51273.359298</td>\n",
              "      <td>-2.230103e+06</td>\n",
              "    </tr>\n",
              "    <tr>\n",
              "      <th>3</th>\n",
              "      <td>3</td>\n",
              "      <td>49.436136</td>\n",
              "      <td>2.359873</td>\n",
              "      <td>0.539648</td>\n",
              "      <td>53964.826199</td>\n",
              "      <td>-2.365304e+06</td>\n",
              "    </tr>\n",
              "    <tr>\n",
              "      <th>4</th>\n",
              "      <td>4</td>\n",
              "      <td>47.468124</td>\n",
              "      <td>1.352915</td>\n",
              "      <td>0.390256</td>\n",
              "      <td>39025.620219</td>\n",
              "      <td>-1.658443e+06</td>\n",
              "    </tr>\n",
              "    <tr>\n",
              "      <th>5</th>\n",
              "      <td>5</td>\n",
              "      <td>46.766389</td>\n",
              "      <td>1.018566</td>\n",
              "      <td>0.329380</td>\n",
              "      <td>32938.025746</td>\n",
              "      <td>-1.375344e+06</td>\n",
              "    </tr>\n",
              "    <tr>\n",
              "      <th>6</th>\n",
              "      <td>6</td>\n",
              "      <td>49.014748</td>\n",
              "      <td>1.850617</td>\n",
              "      <td>0.494243</td>\n",
              "      <td>49424.251771</td>\n",
              "      <td>-2.184735e+06</td>\n",
              "    </tr>\n",
              "    <tr>\n",
              "      <th>7</th>\n",
              "      <td>7</td>\n",
              "      <td>45.877330</td>\n",
              "      <td>0.615321</td>\n",
              "      <td>0.241815</td>\n",
              "      <td>24181.513426</td>\n",
              "      <td>-1.028767e+06</td>\n",
              "    </tr>\n",
              "    <tr>\n",
              "      <th>8</th>\n",
              "      <td>8</td>\n",
              "      <td>45.387151</td>\n",
              "      <td>0.442458</td>\n",
              "      <td>0.194768</td>\n",
              "      <td>19476.805784</td>\n",
              "      <td>-8.162237e+05</td>\n",
              "    </tr>\n",
              "    <tr>\n",
              "      <th>9</th>\n",
              "      <td>9</td>\n",
              "      <td>47.063307</td>\n",
              "      <td>0.780716</td>\n",
              "      <td>0.303209</td>\n",
              "      <td>30320.884830</td>\n",
              "      <td>-1.327367e+06</td>\n",
              "    </tr>\n",
              "    <tr>\n",
              "      <th>10</th>\n",
              "      <td>10</td>\n",
              "      <td>45.998484</td>\n",
              "      <td>0.431717</td>\n",
              "      <td>0.203908</td>\n",
              "      <td>20390.817223</td>\n",
              "      <td>-8.718760e+05</td>\n",
              "    </tr>\n",
              "    <tr>\n",
              "      <th>11</th>\n",
              "      <td>11</td>\n",
              "      <td>45.192601</td>\n",
              "      <td>0.233947</td>\n",
              "      <td>0.132389</td>\n",
              "      <td>13238.918051</td>\n",
              "      <td>-5.495019e+05</td>\n",
              "    </tr>\n",
              "    <tr>\n",
              "      <th>12</th>\n",
              "      <td>12</td>\n",
              "      <td>45.126085</td>\n",
              "      <td>0.173439</td>\n",
              "      <td>0.109245</td>\n",
              "      <td>10924.549690</td>\n",
              "      <td>-4.455921e+05</td>\n",
              "    </tr>\n",
              "    <tr>\n",
              "      <th>13</th>\n",
              "      <td>13</td>\n",
              "      <td>47.086108</td>\n",
              "      <td>0.423817</td>\n",
              "      <td>0.229807</td>\n",
              "      <td>22980.736679</td>\n",
              "      <td>-1.013700e+06</td>\n",
              "    </tr>\n",
              "    <tr>\n",
              "      <th>14</th>\n",
              "      <td>14</td>\n",
              "      <td>46.312500</td>\n",
              "      <td>0.199552</td>\n",
              "      <td>0.137265</td>\n",
              "      <td>13726.539290</td>\n",
              "      <td>-5.860898e+05</td>\n",
              "    </tr>\n",
              "    <tr>\n",
              "      <th>15</th>\n",
              "      <td>15</td>\n",
              "      <td>45.798526</td>\n",
              "      <td>0.085022</td>\n",
              "      <td>0.074559</td>\n",
              "      <td>7455.863647</td>\n",
              "      <td>-2.994660e+05</td>\n",
              "    </tr>\n",
              "    <tr>\n",
              "      <th>16</th>\n",
              "      <td>16</td>\n",
              "      <td>45.302355</td>\n",
              "      <td>0.023300</td>\n",
              "      <td>0.027708</td>\n",
              "      <td>2770.810037</td>\n",
              "      <td>-8.751007e+04</td>\n",
              "    </tr>\n",
              "    <tr>\n",
              "      <th>17</th>\n",
              "      <td>17</td>\n",
              "      <td>48.216166</td>\n",
              "      <td>0.216093</td>\n",
              "      <td>0.202612</td>\n",
              "      <td>20261.231169</td>\n",
              "      <td>-9.309153e+05</td>\n",
              "    </tr>\n",
              "    <tr>\n",
              "      <th>18</th>\n",
              "      <td>18</td>\n",
              "      <td>51.290151</td>\n",
              "      <td>1.477375</td>\n",
              "      <td>0.827691</td>\n",
              "      <td>82769.093821</td>\n",
              "      <td>-4.137849e+06</td>\n",
              "    </tr>\n",
              "    <tr>\n",
              "      <th>19</th>\n",
              "      <td>19</td>\n",
              "      <td>52.799411</td>\n",
              "      <td>2.799411</td>\n",
              "      <td>1.000000</td>\n",
              "      <td>100000.000000</td>\n",
              "      <td>-5.051611e+06</td>\n",
              "    </tr>\n",
              "  </tbody>\n",
              "</table>\n",
              "</div>"
            ],
            "text/plain": [
              "    Week  Stock Price  Option Price     Delta    Shares Held  Cash Position\n",
              "0      0    49.000000      2.400527  0.521605   52160.466107  -2.255863e+06\n",
              "1      1    47.601495      1.655237  0.422336   42233.633008  -1.785501e+06\n",
              "2      2    48.993097      2.219304  0.512734   51273.359298  -2.230103e+06\n",
              "3      3    49.436136      2.359873  0.539648   53964.826199  -2.365304e+06\n",
              "4      4    47.468124      1.352915  0.390256   39025.620219  -1.658443e+06\n",
              "5      5    46.766389      1.018566  0.329380   32938.025746  -1.375344e+06\n",
              "6      6    49.014748      1.850617  0.494243   49424.251771  -2.184735e+06\n",
              "7      7    45.877330      0.615321  0.241815   24181.513426  -1.028767e+06\n",
              "8      8    45.387151      0.442458  0.194768   19476.805784  -8.162237e+05\n",
              "9      9    47.063307      0.780716  0.303209   30320.884830  -1.327367e+06\n",
              "10    10    45.998484      0.431717  0.203908   20390.817223  -8.718760e+05\n",
              "11    11    45.192601      0.233947  0.132389   13238.918051  -5.495019e+05\n",
              "12    12    45.126085      0.173439  0.109245   10924.549690  -4.455921e+05\n",
              "13    13    47.086108      0.423817  0.229807   22980.736679  -1.013700e+06\n",
              "14    14    46.312500      0.199552  0.137265   13726.539290  -5.860898e+05\n",
              "15    15    45.798526      0.085022  0.074559    7455.863647  -2.994660e+05\n",
              "16    16    45.302355      0.023300  0.027708    2770.810037  -8.751007e+04\n",
              "17    17    48.216166      0.216093  0.202612   20261.231169  -9.309153e+05\n",
              "18    18    51.290151      1.477375  0.827691   82769.093821  -4.137849e+06\n",
              "19    19    52.799411      2.799411  1.000000  100000.000000  -5.051611e+06"
            ]
          },
          "metadata": {},
          "output_type": "display_data"
        }
      ],
      "source": [
        "# 3. Output table\n",
        "output_df = pd.DataFrame({\n",
        "    \"Week\": np.arange(m),\n",
        "    \"Stock Price\": S_paths[:, 0],\n",
        "    \"Option Price\": opt_price,\n",
        "    \"Delta\": opt_delta,\n",
        "    \"Shares Held\": shares_total,\n",
        "    \"Cash Position\": cash_total\n",
        "})\n",
        "\n",
        "print(\"\\n3. Output table\")\n",
        "display(output_df.round(6))"
      ]
    },
    {
      "cell_type": "code",
      "execution_count": 25,
      "id": "3bbfa15f",
      "metadata": {},
      "outputs": [
        {
          "name": "stdout",
          "output_type": "stream",
          "text": [
            "\n",
            "4. Analysis Questions\n",
            "Final Portfolio Values\n",
            "Unhedged value: 20,058.93\n",
            "Hedged value  : -51,610.85\n",
            "\n",
            "Hedging Comparison\n",
            "Delta hedging is worse than unhedging by 71,669.78\n",
            "\n",
            "Hedging Effectiveness\n",
            "Delta hedging did not reduce P&L magnitude on this path.\n"
          ]
        }
      ],
      "source": [
        "# 4. Analysis Questions\n",
        "\n",
        "# Final Portfolio Value\n",
        "hedged_value = cash_total[-1] + shares_total[-1] * S_T - portfolio_payoff_T\n",
        "\n",
        "print(\"\\n4. Analysis Questions\")\n",
        "print(\"Final Portfolio Values\")\n",
        "print(f\"Unhedged value: {unhedged_value:,.2f}\")\n",
        "print(f\"Hedged value  : {hedged_value:,.2f}\")\n",
        "\n",
        "# Compare hedged to unhedged scenario\n",
        "hedging_pnl = hedged_value - unhedged_value\n",
        "\n",
        "print(\"\\nHedging Comparison\")\n",
        "if hedging_pnl > 0:\n",
        "    print(f\"Delta hedging is better than unhedging by {hedging_pnl:,.2f}\")\n",
        "else:\n",
        "    print(f\"Delta hedging is worse than unhedging by {abs(hedging_pnl):,.2f}\")\n",
        "\n",
        "# Hedging effectiveness\n",
        "print(\"\\nHedging Effectiveness\")\n",
        "if abs(hedged_value) < abs(unhedged_value):\n",
        "    print(f\"Delta hedging reduced P&L magnitude by {abs(unhedged_value) - abs(hedged_value):,.2f}\")\n",
        "elif np.isclose(abs(hedged_value), abs(unhedged_value)):\n",
        "    print(\"≈ Hedged and unhedged magnitudes are effectively the same on this path.\")\n",
        "else:\n",
        "    print(\"Delta hedging did not reduce P&L magnitude on this path.\")"
      ]
    },
    {
      "cell_type": "markdown",
      "id": "bf9347b2",
      "metadata": {
        "id": "bf9347b2"
      },
      "source": [
        "## Task 3: Multiple Path Analysis and Conclusion\n",
        "\n",
        "### Requirements\n",
        "\n",
        "1. **Multiple Simulation Analysis**:\n",
        "   - Run the delta hedging simulation for at least 5 different random paths\n",
        "   - Use different random seeds (e.g., 123, 456, 789, 101112, 131415)\n",
        "   - For each path, calculate:\n",
        "     - Final portfolio value with delta hedging\n",
        "     - Final portfolio value without hedging\n",
        "\n",
        "2. **Research Questions**:\n",
        "   Answer the following based on your analysis:\n",
        "   - How effective is weekly delta hedging in reducing portfolio risk?\n",
        "   - What factors contribute to hedging errors?\n",
        "   - How does the hedging performance vary across different market scenarios?\n",
        "   - What are the practical limitations of delta hedging?\n",
        "   - Any other thoughts?\n"
      ]
    },
    {
      "cell_type": "code",
      "execution_count": 15,
      "id": "f2cf16e6",
      "metadata": {
        "colab": {
          "base_uri": "https://localhost:8080/"
        },
        "id": "f2cf16e6",
        "outputId": "5d8762e4-47b4-4ade-c559-5f948b02705a"
      },
      "outputs": [
        {
          "name": "stdout",
          "output_type": "stream",
          "text": [
            "TASK 3: MULTIPLE PATH ANALYSIS AND CONCLUSION\n",
            "============================================================\n"
          ]
        }
      ],
      "source": [
        "# Task 3 Solution: Multiple Path Analysis\n",
        "print(\"TASK 3: MULTIPLE PATH ANALYSIS AND CONCLUSION\")\n",
        "print(\"=\" * 60)"
      ]
    },
    {
      "cell_type": "code",
      "execution_count": 21,
      "id": "49f82c5f",
      "metadata": {
        "id": "49f82c5f"
      },
      "outputs": [],
      "source": [
        "# 1. Multiple Simulation Analysis\n",
        "def final_values(S_path, time_grid, *, K, T, r, sigma, n, dt, premium):\n",
        "    m = len(time_grid)\n",
        "\n",
        "    shares = 0.0\n",
        "    # Week 0\n",
        "    S0 = float(S_path[0])\n",
        "    res0 = black_scholes(S0, K, T, r, sigma)\n",
        "    delta0 = float(res0[\"Delta\"])\n",
        "    shares = n * delta0\n",
        "    cash   = float(premium) - shares * S0\n",
        "\n",
        "    # Weekly rebalancing\n",
        "    for t in range(1, m):\n",
        "        cash *= np.exp(r * dt)\n",
        "        T_t = max(T - time_grid[t], 0.0)\n",
        "        S_t = float(S_path[t])\n",
        "\n",
        "        res_t   = black_scholes(S_t, K, T_t, r, sigma)\n",
        "        delta_t = float(res_t[\"Delta\"])\n",
        "\n",
        "        target  = n * delta_t\n",
        "        trade   = target - shares\n",
        "        cash   -= trade * S_t\n",
        "        shares  = target\n",
        "\n",
        "    # Maturity\n",
        "    S_T = float(S_path[-1])\n",
        "    payoff_T  = max(S_T - K, 0.0)\n",
        "    liability = n * payoff_T\n",
        "\n",
        "    final_with_hedge    = cash + shares * S_T - liability\n",
        "    final_without_hedge = premium - liability \n",
        "\n",
        "    return final_with_hedge, final_without_hedge\n",
        "\n",
        "\n",
        "def multiple_simulation(seeds, *, S0, mu, sigma, T, dt, K, r, n, premium):\n",
        "    rows = []\n",
        "    for sd in seeds:\n",
        "        np.random.seed(sd)\n",
        "        time_grid, S_paths = simulate_gbm(S0, mu, sigma, T, dt=dt, paths=1)\n",
        "        S_path = S_paths[:, 0] \n",
        "\n",
        "        fv_h, fv_u = final_values(\n",
        "            S_path, time_grid,\n",
        "            K=K, T=T, r=r, sigma=sigma, n=n, dt=dt, premium=premium\n",
        "        )\n",
        "        rows.append({\n",
        "            \"seed\": sd,\n",
        "            \"final_with_hedge\": fv_h,\n",
        "            \"final_without_hedge\": fv_u,\n",
        "        })\n",
        "\n",
        "    df = pd.DataFrame(rows)\n",
        "    return df\n"
      ]
    },
    {
      "cell_type": "code",
      "execution_count": 22,
      "id": "ca538b15",
      "metadata": {},
      "outputs": [
        {
          "name": "stdout",
          "output_type": "stream",
          "text": [
            "Final portfolio values:\n"
          ]
        },
        {
          "data": {
            "text/html": [
              "<div>\n",
              "<style scoped>\n",
              "    .dataframe tbody tr th:only-of-type {\n",
              "        vertical-align: middle;\n",
              "    }\n",
              "\n",
              "    .dataframe tbody tr th {\n",
              "        vertical-align: top;\n",
              "    }\n",
              "\n",
              "    .dataframe thead th {\n",
              "        text-align: right;\n",
              "    }\n",
              "</style>\n",
              "<table border=\"1\" class=\"dataframe\">\n",
              "  <thead>\n",
              "    <tr style=\"text-align: right;\">\n",
              "      <th></th>\n",
              "      <th>seed</th>\n",
              "      <th>final_with_hedge</th>\n",
              "      <th>final_without_hedge</th>\n",
              "    </tr>\n",
              "  </thead>\n",
              "  <tbody>\n",
              "    <tr>\n",
              "      <th>0</th>\n",
              "      <td>123</td>\n",
              "      <td>-51610.85</td>\n",
              "      <td>20058.93</td>\n",
              "    </tr>\n",
              "    <tr>\n",
              "      <th>1</th>\n",
              "      <td>456</td>\n",
              "      <td>8387.23</td>\n",
              "      <td>-368622.28</td>\n",
              "    </tr>\n",
              "    <tr>\n",
              "      <th>2</th>\n",
              "      <td>789</td>\n",
              "      <td>86720.18</td>\n",
              "      <td>300000.00</td>\n",
              "    </tr>\n",
              "    <tr>\n",
              "      <th>3</th>\n",
              "      <td>101112</td>\n",
              "      <td>110577.70</td>\n",
              "      <td>-260829.97</td>\n",
              "    </tr>\n",
              "    <tr>\n",
              "      <th>4</th>\n",
              "      <td>131415</td>\n",
              "      <td>42322.07</td>\n",
              "      <td>300000.00</td>\n",
              "    </tr>\n",
              "  </tbody>\n",
              "</table>\n",
              "</div>"
            ],
            "text/plain": [
              "     seed  final_with_hedge  final_without_hedge\n",
              "0     123         -51610.85             20058.93\n",
              "1     456           8387.23           -368622.28\n",
              "2     789          86720.18            300000.00\n",
              "3  101112         110577.70           -260829.97\n",
              "4  131415          42322.07            300000.00"
            ]
          },
          "metadata": {},
          "output_type": "display_data"
        }
      ],
      "source": [
        "# Calculate 5 paths\n",
        "seeds = [123, 456, 789, 101112, 131415]\n",
        "\n",
        "task3_df = multiple_simulation(\n",
        "    seeds,\n",
        "    S0=S, mu=mu, sigma=sigma, T=T, dt=dt,\n",
        "    K=K, r=r, n=n, premium=premium\n",
        ")\n",
        "\n",
        "print(\"Final portfolio values:\")\n",
        "display(task3_df.round(2))\n"
      ]
    },
    {
      "cell_type": "markdown",
      "id": "26deae15",
      "metadata": {},
      "source": [
        "2. "
      ]
    }
  ],
  "metadata": {
    "colab": {
      "provenance": []
    },
    "kernelspec": {
      "display_name": "Python 3",
      "language": "python",
      "name": "python3"
    },
    "language_info": {
      "codemirror_mode": {
        "name": "ipython",
        "version": 3
      },
      "file_extension": ".py",
      "mimetype": "text/x-python",
      "name": "python",
      "nbconvert_exporter": "python",
      "pygments_lexer": "ipython3",
      "version": "3.12.7"
    }
  },
  "nbformat": 4,
  "nbformat_minor": 5
}
